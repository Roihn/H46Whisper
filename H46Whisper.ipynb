{
  "cells": [
    {
      "cell_type": "markdown",
      "metadata": {
        "id": "cEAvBF4zgXX4"
      },
      "source": [
        "# H46Whisper\n",
        "\n",
        "H46Whisper is a Google Colab notebook application for streamlined video Japanese subtitle file generation to facilitate subsequent translation and timing process. This application serves the purpose of improving the productivity of Hinatazaka46 subbers.\n",
        "\n",
        "The notebook is based on [Whisper](https://https://github.com/openai/whisper), a general-prupose speech recognition model.\n",
        "\n",
        "The output file will be in .ass format with built-in style of selected sub group so it can be directly imported into [Aegisub](https://github.com/Aegisub/Aegisub) for subsequent editing.\n",
        "\n",
        "Contact: @roihn\n",
        "\n",
        "H46Whisper 是基于 Google Colab 的应用。开发初衷旨在提高日向坂46字幕组的工作效率。但本应用亦适于所有日语视频的字幕制作。\n",
        "\n",
        "以下顺次点击各单元格最左端的“运行“图标，执行各单元格即可。"
      ]
    },
    {
      "cell_type": "markdown",
      "metadata": {
        "id": "laXaXrgPvCOn"
      },
      "source": []
    },
    {
      "cell_type": "code",
      "execution_count": null,
      "metadata": {
        "cellView": "form",
        "id": "nw72_bK3AS1d"
      },
      "outputs": [],
      "source": [
        "#@markdown **挂载你的谷歌网盘/Mount Google Drive** \n",
        "#@markdown **</br>【重要】:** 务必在\"修改\"->\"笔记本设置\"->\"硬件加速器\"中选择GPU！否则处理速度会非常慢。\n",
        "#@markdown **</br>【IMPORTANT】:** Make sure you select GPU as hardware accelerator in notebook settings, otherwise the processing speed will be very slow.\n",
        "\n",
        "from google.colab import drive, files\n",
        "from pprint import pprint\n",
        "drive.mount('/content/drive')\n",
        "print('Google Drive mounted')\n",
        "print('挂载完毕')"
      ]
    },
    {
      "cell_type": "code",
      "execution_count": null,
      "metadata": {
        "cellView": "form",
        "id": "Fjm3tYISAk9P"
      },
      "outputs": [],
      "source": [
        "#@markdown **配置Whisper/Setup Whisper**\n",
        "\n",
        "! pip install git+https://github.com/openai/whisper.git\n",
        "!wget https://raw.githubusercontent.com/Roihn/H46Whisper/main/srt2ass.py\n",
        "print('Whisper installed')\n",
        "print('配置完毕')"
      ]
    },
    {
      "cell_type": "markdown",
      "metadata": {
        "id": "Uo_iAqN6lUpb"
      },
      "source": [
        "# 上传音频/视频文件\n",
        "\n",
        "有三种方式可以用于上传文件：\n",
        "1. 点击下方上传文件按钮从本地上传\n",
        "2. 从Google Drive目录下导入\n",
        "3. 通过url下载\n",
        "\n",
        "在下方选项中选择你想用的上传方式，运行对应代码即可"
      ]
    },
    {
      "cell_type": "markdown",
      "metadata": {
        "id": "mCVLEPBZln0V"
      },
      "source": [
        "## 1. 点击下方上传文件按钮从本地上传"
      ]
    },
    {
      "cell_type": "code",
      "execution_count": null,
      "metadata": {
        "cellView": "form",
        "id": "VF_eOkuYbrBj"
      },
      "outputs": [],
      "source": [
        "#@markdown 点击左侧运行按钮进行上传\n",
        "uploaded = files.upload()\n",
        "file_name = list(uploaded.keys())[0]"
      ]
    },
    {
      "cell_type": "markdown",
      "metadata": {
        "id": "vCIQk-42lrJ3"
      },
      "source": [
        "## 2. 从Google Drive目录下导入"
      ]
    },
    {
      "cell_type": "code",
      "execution_count": null,
      "metadata": {
        "cellView": "form",
        "id": "wvCDSlMeg1g8"
      },
      "outputs": [],
      "source": [
        "import os\n",
        "import shutil\n",
        "import sys\n",
        "\n",
        "\n",
        "GOOGLE_DRIVE_PATH_AFTER_MYDRIVE = \"\" #@param {type:\"string\"}\n",
        "\n",
        "GOOGLE_DRIVE_PATH = os.path.join('drive', 'MyDrive', GOOGLE_DRIVE_PATH_AFTER_MYDRIVE)\n",
        "sys.path.append(GOOGLE_DRIVE_PATH)\n",
        "\n",
        "pprint(os.listdir(GOOGLE_DRIVE_PATH))\n",
        "#@markdown 点击左侧运行，显示你上方提供目录下的所有文件的名称（从你的google drive界面显示的根目录开始写起，不需要绝对路径的前缀）"
      ]
    },
    {
      "cell_type": "code",
      "execution_count": 21,
      "metadata": {
        "cellView": "form",
        "id": "f88OLG2Rg1ri"
      },
      "outputs": [],
      "source": [
        "#@markdown 输入视频名称（全称含扩展名，可从上方列表中复制粘贴，不需要单引号，名称中不要包含空格）\n",
        "file_name = \"\" #@param {type:\"string\"}\n",
        "assert file_name in os.listdir(GOOGLE_DRIVE_PATH), \\\n",
        "    f\"<Warning>: {file_name} not found.\"\n",
        "# !cp $GOOGLE_DRIVE_PATH/$file_name ./\n",
        "file_name = os.path.join(GOOGLE_DRIVE_PATH, file_name)"
      ]
    },
    {
      "cell_type": "markdown",
      "metadata": {
        "id": "Sp_PA13El6Tz"
      },
      "source": [
        "## 3. 通过url下载"
      ]
    },
    {
      "cell_type": "code",
      "execution_count": null,
      "metadata": {
        "cellView": "form",
        "id": "pmwvVRPEl9Pj"
      },
      "outputs": [],
      "source": [
        "#@markdown 建议从IDM的“下载地址”处直接复制粘贴，并删去最后可能出现的问号\n",
        "\n",
        "url = \"\" #@param {type:\"string\"}\n",
        "\n",
        "#@markdown 如果想要同时处理多个视频，请标注各个文件的名称（包括扩展名），如不填写，则使用默认临时文件名\n",
        "file_name = \"\" #@param {type:\"string\"}\n",
        "\n",
        "if file_name == \"\":\n",
        "  file_name = f\"tmp{url[-4:]}\"\n",
        "!wget $url -O $file_name"
      ]
    },
    {
      "cell_type": "markdown",
      "metadata": {
        "id": "XmRgk8I-l_Py"
      },
      "source": [
        "# Whisper转录"
      ]
    },
    {
      "cell_type": "code",
      "execution_count": 23,
      "metadata": {
        "cellView": "form",
        "id": "gLcsoJy5BIcW"
      },
      "outputs": [],
      "source": [
        "# @markdown **参数设置/Required settings:**\n",
        "\n",
        "\n",
        "# @markdown <font size=\"2\">select uploaded file type.\n",
        "# @markdown <br/>选择上传的文件类型(视频/音频）。</font>\n",
        "\n",
        "# encoding:utf-8\n",
        "file_type = \"video\"  # @param [\"audio\",\"video\"]\n",
        "\n",
        "# @markdown <font size=\"2\">Model size will affect the processing time and transcribe quality.\n",
        "# @markdown <br/>模型大小将影响转录时间和质量\n",
        "model_size = \"large\"  # @param [\"large\", \"base\", \"medium\"]\n",
        "language = \"japanese\"  # @param {type:\"string\"}\n",
        "# @markdown <font size=\"2\">Please contact us if you want to have your sub style integrated.\n",
        "# @markdown <br/>当前支持生成字幕格式：\n",
        "# @markdown <br/><li>Default - 真的晒字幕组\n",
        "\n",
        "sub_style = \"Default\"  # @param [\"Default\"]\n",
        "\n",
        "# @markdown **高级设置/Andvanced settings:（已可用/Developed now）**\n",
        "\n",
        "# @markdown <font size=\"2\">Don't change anything here unless you know what you are doing.\n",
        "# @markdown <br/>调节以下参数可能会提高转录质量并避免一些问题，但是不懂请不要调\n",
        "# @markdown <br/>`verbose = True`显示所有转录细节，`verbose = False`显示少量细节，`verbose = None`不显示任何细节\n",
        "\n",
        "compression_ratio_threshold = 2.4 # @param {type:\"number\"}\n",
        "no_speech_threshold = 0.6 # @param {type:\"number\"}\n",
        "logprob_threshold = -1.0 # @param {type:\"number\"}\n",
        "condition_on_previous_text = \"True\" # @param [\"True\", \"False\"]\n",
        "verbose = \"True\" # @param [\"True\", \"False\", \"None\"]"
      ]
    },
    {
      "cell_type": "code",
      "execution_count": null,
      "metadata": {
        "cellView": "form",
        "id": "z0igG7ruI-7q"
      },
      "outputs": [],
      "source": [
        "#@markdown **运行Whisper/Run Whisper**\n",
        "#@markdown </br>完成后ass文件将自动下载到本地/ass file will be auto downloaded after finish.\n",
        "\n",
        "import os\n",
        "# import ffmpeg\n",
        "import subprocess\n",
        "import torch\n",
        "import whisper\n",
        "import time\n",
        "import pandas as pd\n",
        "from pathlib import Path\n",
        "import sys\n",
        "# sys.path.append('/drive/content')\n",
        "\n",
        "assert file_name != \"\"\n",
        "assert language != \"\"\n",
        "\n",
        "if not os.path.exists(file_name):\n",
        "  raise ValueError(f\"No {file_name} found in current path.\")\n",
        "else:\n",
        "    try:\n",
        "        file_basename = Path(file_name).stem\n",
        "        output_dir = Path(file_name).parent.resolve()\n",
        "        print(file_basename)\n",
        "        print(output_dir)\n",
        "    except Exception as e:\n",
        "        print(f'error: {e}')\n",
        "\n",
        "\n",
        "\n",
        "if file_type == \"video\":\n",
        "  print('提取音频中 Extracting audio from video file...')\n",
        "  os.system(f'ffmpeg -i {file_name} -f mp3 -ab 192000 -vn {file_basename}.mp3')\n",
        "  print('提取完毕 Done.') \n",
        "\n",
        "torch.cuda.empty_cache()\n",
        "print('加载模型 Loading model...')\n",
        "model = whisper.load_model(model_size)\n",
        "\n",
        "#Transcribe\n",
        "tic = time.time()\n",
        "print('识别中 Converting...')\n",
        "result = model.transcribe(audio=f'{file_name}', \n",
        "                          language=language, \n",
        "                          verbose=verbose,\n",
        "                          compression_ratio_threshold=compression_ratio_threshold,\n",
        "                          logprob_threshold=logprob_threshold,\n",
        "                          no_speech_threshold=no_speech_threshold,\n",
        "                          condition_on_previous_text=condition_on_previous_text)\n",
        "toc = time.time()\n",
        "print('识别完毕 Done')\n",
        "print(f'Time consumpution {toc-tic}s')\n",
        "\n",
        "#Write SRT file\n",
        "from whisper.utils import WriteSRT\n",
        "write_srt = WriteSRT(output_dir)\n",
        "write_srt(result, Path(output_dir) / (file_basename + \".srt\"))\n",
        "# with open(Path(output_dir) / (file_basename + \".srt\"), \"w\", encoding=\"utf-8\") as srt:\n",
        "# write_srt.write_result(result[\"segments\"])\n",
        "#Convert SRT to ASS\n",
        "\n",
        "from srt2ass import srt2ass\n",
        "assSub = srt2ass(str(Path(output_dir) / (file_basename + \".srt\")), sub_style)\n",
        "print('ASS subtitle saved as: ' + assSub)\n",
        "files.download(assSub)\n",
        "os.remove(Path(output_dir) / (file_basename + \".mp4.srt\"))\n",
        "print('字幕生成完毕/All done!')\n",
        "\n",
        "import gc\n",
        "del model\n",
        "gc.collect()\n",
        "torch.cuda.empty_cache()"
      ]
    }
  ],
  "metadata": {
    "accelerator": "GPU",
    "colab": {
      "collapsed_sections": [],
      "provenance": []
    },
    "kernelspec": {
      "display_name": "Python 3.7.13 ('cbet1.6')",
      "language": "python",
      "name": "python3"
    },
    "language_info": {
      "name": "python",
      "version": "3.7.13"
    },
    "vscode": {
      "interpreter": {
        "hash": "ce63c4f8edef8a949a3963d2b47b8d744c5daba5368cb2ec7596fdee20d00bf6"
      }
    }
  },
  "nbformat": 4,
  "nbformat_minor": 0
}
